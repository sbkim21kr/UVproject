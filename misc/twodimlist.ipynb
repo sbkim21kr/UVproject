{
 "cells": [
  {
   "cell_type": "code",
   "execution_count": 1,
   "id": "a2e5c4d1",
   "metadata": {},
   "outputs": [
    {
     "name": "stdout",
     "output_type": "stream",
     "text": [
      "[[1, 2, 3, 4, 5], [6, 7, 8, 9, 10]]\n"
     ]
    }
   ],
   "source": [
    "all_contacts = [[1,2,3,4,5],\n",
    "                [6,7,8,9,10]]\n",
    "\n",
    "print(all_contacts)\n"
   ]
  },
  {
   "cell_type": "code",
   "execution_count": 2,
   "id": "75266872",
   "metadata": {},
   "outputs": [
    {
     "name": "stdout",
     "output_type": "stream",
     "text": [
      "[1, 2, 3, 4, 5]\n",
      "--------------------\n",
      "[6, 7, 8, 9, 10]\n",
      "--------------------\n"
     ]
    }
   ],
   "source": [
    "for contact in all_contacts:\n",
    "    print(contact)\n",
    "    print('-' * 20) #다른 요소랑 구분하여 보기 위해, 선 긋는 출력임\n"
   ]
  },
  {
   "cell_type": "code",
   "execution_count": 3,
   "id": "91db17de",
   "metadata": {},
   "outputs": [
    {
     "name": "stdout",
     "output_type": "stream",
     "text": [
      "1\n",
      "--------------------\n",
      "2\n",
      "--------------------\n",
      "3\n",
      "--------------------\n",
      "4\n",
      "--------------------\n",
      "5\n",
      "--------------------\n",
      "6\n",
      "--------------------\n",
      "7\n",
      "--------------------\n",
      "8\n",
      "--------------------\n",
      "9\n",
      "--------------------\n",
      "10\n",
      "--------------------\n"
     ]
    }
   ],
   "source": [
    "for contact in all_contacts:\n",
    "    for data in contact:\n",
    "        print(data)\n",
    "        print(\"-\" * 20)\n"
   ]
  }
 ],
 "metadata": {
  "kernelspec": {
   "display_name": ".venv",
   "language": "python",
   "name": "python3"
  },
  "language_info": {
   "codemirror_mode": {
    "name": "ipython",
    "version": 3
   },
   "file_extension": ".py",
   "mimetype": "text/x-python",
   "name": "python",
   "nbconvert_exporter": "python",
   "pygments_lexer": "ipython3",
   "version": "3.12.3"
  }
 },
 "nbformat": 4,
 "nbformat_minor": 5
}
