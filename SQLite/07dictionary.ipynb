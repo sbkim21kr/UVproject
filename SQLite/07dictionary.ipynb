{
 "cells": [
  {
   "cell_type": "code",
   "execution_count": null,
   "id": "f7dfdd24",
   "metadata": {},
   "outputs": [
    {
     "name": "stdout",
     "output_type": "stream",
     "text": [
      "이름: 이순신, 이메일: sunsin@example.com\n"
     ]
    }
   ],
   "source": [
    "import sqlite3\n",
    "\n",
    "try:\n",
    "    with sqlite3.connect(\"address.db\") as conn:\n",
    "        conn.row_factory = sqlite3.Row # 이 한 줄만 추가!\n",
    "    # sqlite3.Row means “When I fetch rows, give me something that behaves like a dictionary.”\n",
    "    # conn.row_factory is like a setting or instruction for how rows should behave when you do:\n",
    "    # contact=c.fetchone()    i can use column names instead of column order 1 2 3 4\n",
    "\n",
    "\n",
    "\n",
    "        c = conn.cursor()\n",
    "        \n",
    "        c.execute(\"SELECT * FROM addressbook WHERE name = ?\", ('이순신',))\n",
    "        contact = c.fetchone()\n",
    "        \n",
    "        if contact:\n",
    "            print(f\"이름: {contact['name']}, 이메일: {contact['email']}\")\n",
    "\n",
    "except sqlite3.Error as e:\n",
    "    print(\"데이터베이스 오류 발생:\", e)\n"
   ]
  }
 ],
 "metadata": {
  "kernelspec": {
   "display_name": ".venv",
   "language": "python",
   "name": "python3"
  },
  "language_info": {
   "codemirror_mode": {
    "name": "ipython",
    "version": 3
   },
   "file_extension": ".py",
   "mimetype": "text/x-python",
   "name": "python",
   "nbconvert_exporter": "python",
   "pygments_lexer": "ipython3",
   "version": "3.12.3"
  }
 },
 "nbformat": 4,
 "nbformat_minor": 5
}
