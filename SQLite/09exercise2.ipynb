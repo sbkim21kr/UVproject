{
 "cells": [
  {
   "cell_type": "code",
   "execution_count": 1,
   "id": "ba9eb07d",
   "metadata": {},
   "outputs": [
    {
     "name": "stdout",
     "output_type": "stream",
     "text": [
      "'HiroseAlice'의 전화번호를 성공적으로 변경했습니다.\n",
      "\n",
      "--- 수정 후 전체 주소록 ---\n",
      "ID: 5, 이름: HiroseAlice, 전화번호: 010-9349-8834\n",
      "ID: 4, 이름: 강감찬, 전화번호: 010-7777-8888\n",
      "ID: 2, 이름: 이순신, 전화번호: 010-3333-4444\n",
      "ID: 1, 이름: 홍길동, 전화번호: 010-1111-2222\n"
     ]
    }
   ],
   "source": [
    "import sqlite3\n",
    "\n",
    "# --- 1. 'HiroseAlice'의 전화번호 수정하기 ---\n",
    "new_phone = '010-9349-8834'\n",
    "target_name = 'HiroseAlice'\n",
    "\n",
    "try:\n",
    "    with sqlite3.connect('address.db') as conn:\n",
    "        c = conn.cursor()\n",
    "        c.execute(\"UPDATE addressbook SET phone = ? WHERE name = ?\", (new_phone, target_name))\n",
    "        print(f\"'{target_name}'의 전화번호를 성공적으로 변경했습니다.\")\n",
    "except sqlite3.Error as e:\n",
    "    print(\"데이터 수정 중 오류 발생:\", e)\n",
    "\n",
    "\n",
    "# --- 2. 수정된 전체 목록을 이름순으로 조회하여 출력하기 ---\n",
    "print(\"\\n--- 수정 후 전체 주소록 ---\")\n",
    "try:\n",
    "    with sqlite3.connect('address.db') as conn:\n",
    "        # 결과를 딕셔너리 형태로 받기 위한 설정\n",
    "        conn.row_factory = sqlite3.Row\n",
    "        \n",
    "        c = conn.cursor()\n",
    "        \n",
    "        # 이름(name)을 기준으로 오름차순 정렬하여 조회\n",
    "        c.execute(\"SELECT * FROM addressbook ORDER BY name\")\n",
    "        \n",
    "        # 모든 결과를 가져와서 출력\n",
    "        for contact in c.fetchall():\n",
    "            print(f\"ID: {contact['id']}, 이름: {contact['name']}, 전화번호: {contact['phone']}\")\n",
    "            \n",
    "except sqlite3.Error as e:\n",
    "    print(\"데이터 조회 중 오류 발생:\", e)\n"
   ]
  }
 ],
 "metadata": {
  "kernelspec": {
   "display_name": ".venv",
   "language": "python",
   "name": "python3"
  },
  "language_info": {
   "codemirror_mode": {
    "name": "ipython",
    "version": 3
   },
   "file_extension": ".py",
   "mimetype": "text/x-python",
   "name": "python",
   "nbconvert_exporter": "python",
   "pygments_lexer": "ipython3",
   "version": "3.12.3"
  }
 },
 "nbformat": 4,
 "nbformat_minor": 5
}
