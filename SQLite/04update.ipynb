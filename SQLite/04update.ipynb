{
 "cells": [
  {
   "cell_type": "code",
   "execution_count": 1,
   "id": "1fa204c0",
   "metadata": {},
   "outputs": [
    {
     "name": "stdout",
     "output_type": "stream",
     "text": [
      "'홍길동'의 이메일이 성공적으로 변경되었습니다.\n"
     ]
    }
   ],
   "source": [
    "import sqlite3\n",
    "\n",
    "conn = sqlite3.connect('address.db')\n",
    "c = conn.cursor()\n",
    "\n",
    "# '홍길동'의 이메일을 새로운 주소로 변경\n",
    "new_email = 'new.gildong@example.com'\n",
    "target_name = '홍길동'\n",
    "c.execute(\"UPDATE addressbook SET email = ? WHERE name = ?\", (new_email, target_name))\n",
    "\n",
    "conn.commit()\n",
    "conn.close()\n",
    "\n",
    "print(f\"'{target_name}'의 이메일이 성공적으로 변경되었습니다.\")\n"
   ]
  }
 ],
 "metadata": {
  "kernelspec": {
   "display_name": ".venv",
   "language": "python",
   "name": "python3"
  },
  "language_info": {
   "codemirror_mode": {
    "name": "ipython",
    "version": 3
   },
   "file_extension": ".py",
   "mimetype": "text/x-python",
   "name": "python",
   "nbconvert_exporter": "python",
   "pygments_lexer": "ipython3",
   "version": "3.12.3"
  }
 },
 "nbformat": 4,
 "nbformat_minor": 5
}
