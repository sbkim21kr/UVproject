{
 "cells": [
  {
   "cell_type": "code",
   "execution_count": 1,
   "id": "438994ed",
   "metadata": {},
   "outputs": [
    {
     "name": "stdout",
     "output_type": "stream",
     "text": [
      "with 구문을 사용하여 데이터 추가 완료!\n",
      "(4, '강감찬', '010-7777-8888', 'chan@example.com')\n",
      "(2, '이순신', '010-3333-4444', 'sunsin@example.com')\n",
      "(1, '홍길동', '010-1111-2222', 'new.gildong@example.com')\n"
     ]
    }
   ],
   "source": [
    "import sqlite3\n",
    "\n",
    "# 'with'를 사용한 데이터 추가\n",
    "try:\n",
    "    with sqlite3.connect(\"address.db\") as conn:\n",
    "        c = conn.cursor()\n",
    "        c.execute(\"INSERT INTO addressbook (name, phone, email) VALUES (?, ?, ?)\",\n",
    "                  ('강감찬', '010-7777-8888', 'chan@example.com'))\n",
    "        print(\"with 구문을 사용하여 데이터 추가 완료!\")\n",
    "\n",
    "except sqlite3.Error as e:\n",
    "    print(\"데이터베이스 오류 발생:\", e)\n",
    "\n",
    "# 'with'를 사용한 데이터 조회 (조회 시에는 commit이 없지만, 안전한 close를 보장)\n",
    "try:\n",
    "    with sqlite3.connect(\"address.db\") as conn:\n",
    "        c = conn.cursor()\n",
    "        c.execute(\"SELECT * FROM addressbook ORDER BY name\") # 이름순으로 정렬\n",
    "        for row in c.fetchall():\n",
    "            print(row)\n",
    "            \n",
    "except sqlite3.Error as e:\n",
    "    print(\"데이터베이스 오류 발생:\", e)\n"
   ]
  }
 ],
 "metadata": {
  "kernelspec": {
   "display_name": ".venv",
   "language": "python",
   "name": "python3"
  },
  "language_info": {
   "codemirror_mode": {
    "name": "ipython",
    "version": 3
   },
   "file_extension": ".py",
   "mimetype": "text/x-python",
   "name": "python",
   "nbconvert_exporter": "python",
   "pygments_lexer": "ipython3",
   "version": "3.12.3"
  }
 },
 "nbformat": 4,
 "nbformat_minor": 5
}
