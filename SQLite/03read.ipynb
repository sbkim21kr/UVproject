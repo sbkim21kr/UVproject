{
 "cells": [
  {
   "cell_type": "code",
   "execution_count": null,
   "id": "55064ab8",
   "metadata": {},
   "outputs": [
    {
     "name": "stdout",
     "output_type": "stream",
     "text": [
      "--- 모든 주소록 조회 ---\n",
      "ID: 1, 이름: 홍길동, 전화번호: 010-1111-2222, 이메일: gildong@example.com\n",
      "ID: 2, 이름: 이순신, 전화번호: 010-3333-4444, 이메일: sunsin@example.com\n",
      "ID: 3, 이름: 유관순, 전화번호: 010-5555-6666, 이메일: gwansun@example.com\n",
      "\n",
      "--- 이름이 '홍길동'인 사람 조회 ---\n",
      "(1, '홍길동', '010-1111-2222', 'gildong@example.com')\n"
     ]
    }
   ],
   "source": [
    "import sqlite3\n",
    "\n",
    "\n",
    "# You opened the notebook from inside /home/sbkim21/Documents/UVproject/SQLite\n",
    "# So its working directory is SQLite When you run sqlite3.connect('address.db'), it looks for the file inside SQLite\n",
    "\n",
    "\n",
    "# cwd = where the notebook file lives\n",
    "\n",
    "# Doesn’t care where you launched Jupyter or where your project root is\n",
    "\n",
    "\n",
    "\n",
    "conn = sqlite3.connect('address.db')\n",
    "c = conn.cursor()\n",
    "\n",
    "# [방법 1] 모든 데이터 조회\n",
    "print(\"--- 모든 주소록 조회 ---\")\n",
    "c.execute(\"SELECT * FROM addressbook\")\n",
    "\n",
    "#              * Means “All Columns”\n",
    "\n",
    "all_contacts = c.fetchall() # 조회된 모든 결과를 리스트 형태로 반환\n",
    "for contact in all_contacts:\n",
    "    print(f\"ID: {contact[0]}, 이름: {contact[1]}, 전화번호: {contact[2]}, 이메일: {contact[3]}\")\n",
    "\n",
    "# [방법 2] 특정 조건으로 1개 데이터 조회\n",
    "print(\"\\n--- 이름이 '홍길동'인 사람 조회 ---\")\n",
    "c.execute(\"SELECT * FROM addressbook WHERE name = ?\", ('홍길동',)) # 매개변수는 반드시 튜플 형태여야 함\n",
    "\n",
    "# In SQLite (and most Python DB-API implementations),\n",
    "# the execute() method expects a sequence of parameters — even if there's only one.\n",
    "# Here’s why the tuple is necessary:\n",
    "# ✅ 1. The ? is a placeholder\n",
    "#     It tells SQLite: “I’ll give you a value to plug in here.”\n",
    "#     That value must come as a tuple, list, or other sequence\n",
    "\n",
    "# ✅ 2. Tuples are the standard\n",
    "#     Even for one value, you must write it as a tuple: ('홍길동',)\n",
    "#     If you write just '홍길동', Python treats it as a string — not a sequence —\n",
    "#     and SQLite throws an error\n",
    "\n",
    "\n",
    "\n",
    "\n",
    "\n",
    "one_contact = c.fetchone() # 조건에 맞는 첫 번째 결과 하나만 반환\n",
    "if one_contact:\n",
    "    print(one_contact)\n",
    "\n",
    "conn.close() # 조회만 할 때는 commit이 필요 없음\n"
   ]
  }
 ],
 "metadata": {
  "kernelspec": {
   "display_name": ".venv",
   "language": "python",
   "name": "python3"
  },
  "language_info": {
   "codemirror_mode": {
    "name": "ipython",
    "version": 3
   },
   "file_extension": ".py",
   "mimetype": "text/x-python",
   "name": "python",
   "nbconvert_exporter": "python",
   "pygments_lexer": "ipython3",
   "version": "3.12.3"
  }
 },
 "nbformat": 4,
 "nbformat_minor": 5
}
