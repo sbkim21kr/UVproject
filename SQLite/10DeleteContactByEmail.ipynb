{
 "cells": [
  {
   "cell_type": "code",
   "execution_count": 1,
   "id": "267e8074",
   "metadata": {},
   "outputs": [],
   "source": [
    "import sqlite3\n",
    "\n",
    "def delete_contact_by_email(target_email):\n",
    "    pass"
   ]
  },
  {
   "cell_type": "code",
   "execution_count": 2,
   "id": "a63a7067",
   "metadata": {},
   "outputs": [],
   "source": [
    "import sqlite3\n",
    "\n",
    "def delete_contact_by_email(target_email):\n",
    "    \"\"\"\n",
    "    주어진 이메일 주소를 사용하여 addressbook 테이블에서 연락처를 삭제합니다.\n",
    "    삭제 성공 여부에 따라 다른 메시지를 출력합니다.\n",
    "    \"\"\"\n",
    "    try:\n",
    "        with sqlite3.connect('address.db') as conn:\n",
    "            c = conn.cursor()\n",
    "            \n",
    "            # 1. 전달받은 이메일로 데이터 삭제 시도\n",
    "            c.execute(\"DELETE FROM addressbook WHERE email = ?\", (target_email,))\n",
    "            \n",
    "            # 2. 실제로 몇 개의 행이 삭제되었는지 확인 (핵심!)\n",
    "            # c.rowcount는 DELETE, UPDATE, INSERT 후에만 의미 있는 값을 가짐\n",
    "            if c.rowcount > 0:\n",
    "                # 삭제된 행이 1개 이상이면 성공 메시지 출력\n",
    "                print(f'✅ \"{target_email}\" 주소의 데이터를 삭제했습니다.')\n",
    "            else:\n",
    "                # 삭제된 행이 0개이면, 해당 데이터가 없었다는 의미\n",
    "                print(f'❌ \"{target_email}\"에 해당하는 데이터가 존재하지 않습니다.')\n",
    "                \n",
    "            # with 블록이 끝나면 자동으로 commit (또는 오류 시 rollback) 및 close 됨\n",
    "\n",
    "    except sqlite3.Error as e:\n",
    "        print(\"데이터베이스 작업 중 오류 발생:\", e)\n"
   ]
  },
  {
   "cell_type": "code",
   "execution_count": 3,
   "id": "6c9bc393",
   "metadata": {},
   "outputs": [
    {
     "name": "stdout",
     "output_type": "stream",
     "text": [
      "--- 삭제 작업 시작 ---\n",
      "✅ \"sejong@hangeul.com\" 주소의 데이터를 삭제했습니다.\n",
      "❌ \"nobo11dy@no11where.com\"에 해당하는 데이터가 존재하지 않습니다.\n",
      "---------------------\n",
      "\n",
      "--- 최종 주소록 목록 ---\n",
      "ID: 4, 이름: 강감찬, 이메일: chan@example.com\n",
      "ID: 2, 이름: 이순신, 이메일: sunsin@example.com\n",
      "ID: 1, 이름: 홍길동, 이메일: new.gildong@example.com\n"
     ]
    }
   ],
   "source": [
    "# --- 최종 실행 코드 ---\n",
    "\n",
    "# 1. 함수 호출 테스트\n",
    "print(\"--- 삭제 작업 시작 ---\")\n",
    "# [시나리오 1] DB에 존재하는 데이터 삭제 시도\n",
    "delete_contact_by_email('sejong@hangeul.com') \n",
    "\n",
    "# [시나리오 2] DB에 존재하지 않는 데이터 삭제 시도\n",
    "delete_contact_by_email('nobo11dy@no11where.com')\n",
    "print(\"---------------------\\n\")\n",
    "\n",
    "\n",
    "# 2. 최종 결과 확인 (정말로 삭제되었는지 확인)\n",
    "print(\"--- 최종 주소록 목록 ---\")\n",
    "try:\n",
    "    with sqlite3.connect('address.db') as conn:\n",
    "        conn.row_factory = sqlite3.Row\n",
    "        c = conn.cursor()\n",
    "        \n",
    "        c.execute(\"SELECT id, name, email FROM addressbook ORDER BY name\")\n",
    "        \n",
    "        for contact in c.fetchall():\n",
    "            print(f\"ID: {contact['id']}, 이름: {contact['name']}, 이메일: {contact['email']}\")\n",
    "\n",
    "except sqlite3.Error as e:\n",
    "    print(\"데이터 조회 중 오류 발생:\", e)\n"
   ]
  }
 ],
 "metadata": {
  "kernelspec": {
   "display_name": ".venv",
   "language": "python",
   "name": "python3"
  },
  "language_info": {
   "codemirror_mode": {
    "name": "ipython",
    "version": 3
   },
   "file_extension": ".py",
   "mimetype": "text/x-python",
   "name": "python",
   "nbconvert_exporter": "python",
   "pygments_lexer": "ipython3",
   "version": "3.12.3"
  }
 },
 "nbformat": 4,
 "nbformat_minor": 5
}
