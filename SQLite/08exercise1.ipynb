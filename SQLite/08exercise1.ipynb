{
 "cells": [
  {
   "cell_type": "code",
   "execution_count": 1,
   "id": "801ddc43",
   "metadata": {},
   "outputs": [
    {
     "name": "stdout",
     "output_type": "stream",
     "text": [
      "you have successfully added\n",
      "\n",
      "the search result of 'HiroseAlice':\n",
      "(5, 'HiroseAlice', '010-1234-5678', 'sejong@hangeul.com')\n"
     ]
    }
   ],
   "source": [
    "import sqlite3\n",
    "\n",
    "# --- 1. 데이터 추가하기 ---\n",
    "try:\n",
    "    with sqlite3.connect('address.db') as conn:\n",
    "        c = conn.cursor()\n",
    "        \n",
    "        # '세종대왕' 정보 추가 (UNIQUE 제약 조건 때문에 여러 번 실행하면 오류 발생)\n",
    "        # 한번만 실행하거나, 이미 데이터가 있다면 이 부분은 주석 처리하세요.\n",
    "        c.execute(\"INSERT INTO addressbook (name, phone, email) VALUES (?, ?, ?)\",\n",
    "                  ('HiroseAlice', '010-1234-5678', 'sejong@hangeul.com'))\n",
    "        print(\"you have successfully added\")\n",
    "\n",
    "except sqlite3.IntegrityError:\n",
    "    # email이 UNIQUE이므로 중복 추가 시 발생하는 오류 처리\n",
    "    print(\"already exists\")\n",
    "\n",
    "# --- 2. 추가된 데이터 확인하기 ---\n",
    "with sqlite3.connect('address.db') as conn:\n",
    "    c = conn.cursor()\n",
    "    \n",
    "    # 이름으로 데이터 조회\n",
    "    target_name = 'HiroseAlice'\n",
    "    c.execute(\"SELECT * FROM addressbook WHERE name = ?\", (target_name,))\n",
    "    \n",
    "    result = c.fetchone()\n",
    "    \n",
    "    print(\"\\nthe search result of 'HiroseAlice':\")\n",
    "    print(result)\n",
    "\n"
   ]
  }
 ],
 "metadata": {
  "kernelspec": {
   "display_name": ".venv",
   "language": "python",
   "name": "python3"
  },
  "language_info": {
   "codemirror_mode": {
    "name": "ipython",
    "version": 3
   },
   "file_extension": ".py",
   "mimetype": "text/x-python",
   "name": "python",
   "nbconvert_exporter": "python",
   "pygments_lexer": "ipython3",
   "version": "3.12.3"
  }
 },
 "nbformat": 4,
 "nbformat_minor": 5
}
