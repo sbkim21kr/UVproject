{
 "cells": [
  {
   "cell_type": "code",
   "execution_count": 1,
   "id": "c21ce7fb",
   "metadata": {},
   "outputs": [
    {
     "name": "stdout",
     "output_type": "stream",
     "text": [
      "'유관순'의 데이터가 성공적으로 삭제되었습니다.\n"
     ]
    }
   ],
   "source": [
    "import sqlite3\n",
    "\n",
    "conn = sqlite3.connect('address.db')\n",
    "c = conn.cursor()\n",
    "\n",
    "# '유관순'의 데이터 삭제\n",
    "delete_name = '유관순'\n",
    "c.execute(\"DELETE FROM addressbook WHERE name = ?\", (delete_name,))\n",
    "\n",
    "conn.commit()\n",
    "conn.close()\n",
    "\n",
    "print(f\"'{delete_name}'의 데이터가 성공적으로 삭제되었습니다.\")\n"
   ]
  }
 ],
 "metadata": {
  "kernelspec": {
   "display_name": ".venv",
   "language": "python",
   "name": "python3"
  },
  "language_info": {
   "codemirror_mode": {
    "name": "ipython",
    "version": 3
   },
   "file_extension": ".py",
   "mimetype": "text/x-python",
   "name": "python",
   "nbconvert_exporter": "python",
   "pygments_lexer": "ipython3",
   "version": "3.12.3"
  }
 },
 "nbformat": 4,
 "nbformat_minor": 5
}
