{
 "cells": [
  {
   "cell_type": "code",
   "execution_count": 2,
   "id": "f46d31fa",
   "metadata": {},
   "outputs": [
    {
     "name": "stdout",
     "output_type": "stream",
     "text": [
      "what is going on???\n"
     ]
    }
   ],
   "source": [
    "print(\"what is going on???\")"
   ]
  }
 ],
 "metadata": {
  "kernelspec": {
   "display_name": "UVproject",
   "language": "python",
   "name": "python3"
  },
  "language_info": {
   "codemirror_mode": {
    "name": "ipython",
    "version": 3
   },
   "file_extension": ".py",
   "mimetype": "text/x-python",
   "name": "python",
   "nbconvert_exporter": "python",
   "pygments_lexer": "ipython3",
   "version": "3.12.3"
  }
 },
 "nbformat": 4,
 "nbformat_minor": 5
}
